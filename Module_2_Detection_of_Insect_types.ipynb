{
  "nbformat": 4,
  "nbformat_minor": 0,
  "metadata": {
    "colab": {
      "provenance": [],
      "authorship_tag": "ABX9TyMObXFa7uFcbzaU745XIwsx",
      "include_colab_link": true
    },
    "kernelspec": {
      "name": "python3",
      "display_name": "Python 3"
    },
    "language_info": {
      "name": "python"
    }
  },
  "cells": [
    {
      "cell_type": "markdown",
      "metadata": {
        "id": "view-in-github",
        "colab_type": "text"
      },
      "source": [
        "<a href=\"https://colab.research.google.com/github/IsharaSilva/Prediction-Recommedation-system-for-Potato-Cultivation/blob/main/Module_2_Detection_of_Insect_types.ipynb\" target=\"_parent\"><img src=\"https://colab.research.google.com/assets/colab-badge.svg\" alt=\"Open In Colab\"/></a>"
      ]
    },
    {
      "cell_type": "code",
      "execution_count": null,
      "metadata": {
        "id": "k8G_Qw5MORBv"
      },
      "outputs": [],
      "source": [
        "pip install rembg"
      ]
    },
    {
      "cell_type": "code",
      "source": [
        "import numpy as np # dataAnalysis\n",
        "import pandas as pd #multidimensional arrays\n",
        "import matplotlib.pyplot as plt #data visualization\n",
        "from sklearn.model_selection import train_test_split\n",
        "from sklearn.metrics import accuracy_score\n",
        "from skimage import img_as_ubyte\n",
        "from skimage.util import img_as_float\n",
        "from rembg import remove"
      ],
      "metadata": {
        "id": "czLfr36kOU7C"
      },
      "execution_count": null,
      "outputs": []
    },
    {
      "cell_type": "code",
      "source": [
        "from google.colab import drive\n",
        "drive.mount('/content/drive')"
      ],
      "metadata": {
        "id": "gRwpjj2COVI_"
      },
      "execution_count": null,
      "outputs": []
    },
    {
      "cell_type": "code",
      "source": [
        "my_folder_path = 'https://drive.google.com/drive/folders/1J_XyVRFE15SzLjFtT4Z1OrabYlNeDHGQ?usp=share_link'"
      ],
      "metadata": {
        "id": "M_X_iIOdOVL1"
      },
      "execution_count": null,
      "outputs": []
    },
    {
      "cell_type": "code",
      "source": [
        "!git clone https://github.com/IsharaSilva/Prediction-Recommedation-system-for-Potato-Cultivation.git"
      ],
      "metadata": {
        "id": "dN4NULtUOVOs"
      },
      "execution_count": null,
      "outputs": []
    },
    {
      "cell_type": "code",
      "source": [
        "import os\n",
        "path = os.listdir('/content/drive/MyDrive/Insect/Training')\n",
        "classes = {'Insect_Coloradopotatobeetle':0, 'Insect_Fleabeetle':1}"
      ],
      "metadata": {
        "id": "-BRnIPwyOVSG"
      },
      "execution_count": null,
      "outputs": []
    },
    {
      "cell_type": "code",
      "source": [
        "import cv2\n",
        "import os\n",
        "\n",
        "img_no = 1\n",
        "x = []\n",
        "y = []\n",
        "z = []\n",
        "histo = []\n",
        "\n",
        "for cls in classes:\n",
        "    input_path = '/content/drive/MyDrive/Insect/Training/' + cls\n",
        "    output_path = '/content/drive/MyDrive/Insect/Preprocessed/' + cls\n",
        "\n",
        "    # Create output directory if it doesn't exist\n",
        "    if not os.path.exists(output_path):\n",
        "        os.makedirs(output_path)\n",
        "\n",
        "    for j in os.listdir(input_path):\n",
        "        realimage = cv2.imread(os.path.join(input_path, j), 1)\n",
        "\n",
        "        # Preprocessing steps\n",
        "        resizedImage = cv2.resize(realimage, (400, 400))\n",
        "\n",
        "        color_contrastImage = img_as_ubyte(cv2.cvtColor(resizedImage, cv2.COLOR_BGR2RGB))\n",
        "\n",
        "        smooth_image = img_as_ubyte(cv2.GaussianBlur(color_contrastImage, (5, 5), 0, borderType=cv2.BORDER_CONSTANT))\n",
        "\n",
        "        R, G, B = cv2.split(smooth_image)\n",
        "        op_R = cv2.equalizeHist(R)\n",
        "        op_G = cv2.equalizeHist(G)\n",
        "        op_B = cv2.equalizeHist(B)\n",
        "        histogram_image = cv2.merge((op_R, op_G, op_B))\n",
        "\n",
        "        clahe = cv2.createCLAHE(clipLimit=2.0, tileGridSize=(8, 8))\n",
        "        op2_R = clahe.apply(R)\n",
        "        op2_G = clahe.apply(G)\n",
        "        op2_B = clahe.apply(B)\n",
        "        clahe_image = cv2.merge((op2_R, op2_G, op2_B))\n",
        "\n",
        "        # Save the preprocessed image to the output folder\n",
        "        #output_filename = os.path.join(output_path, str(img_no) + '.jpg')\n",
        "        #cv2.imwrite(output_filename, clahe_image)\n",
        "\n",
        "        x.append(clahe_image)\n",
        "        y.append(classes[cls])\n",
        "        z.append(realimage)\n",
        "        histo.append(histogram_image)\n",
        "\n",
        "        img_no += 1"
      ],
      "metadata": {
        "id": "LZqOamAYOVUc"
      },
      "execution_count": null,
      "outputs": []
    },
    {
      "cell_type": "code",
      "source": [
        "plt.imshow(x[150])"
      ],
      "metadata": {
        "id": "0n6vemSlOVXS"
      },
      "execution_count": null,
      "outputs": []
    },
    {
      "cell_type": "code",
      "source": [
        "plt.imshow(z[150])"
      ],
      "metadata": {
        "id": "M0fcbwGNOVaA"
      },
      "execution_count": null,
      "outputs": []
    },
    {
      "cell_type": "code",
      "source": [
        "classes = ['Insect_Coloradopotatobeetle', 'Insect_Fleabeetle']\n",
        "\n",
        "for cls in classes:\n",
        "    input_path = f'/content/drive/MyDrive/Insect/Preprocessed/'+ cls\n",
        "    output_path = f'/content/drive/MyDrive/Insect/AugmentationImages/'+ cls\n",
        "\n",
        "    target_size = 400\n",
        "\n",
        "    # Augmentation parameters\n",
        "    rotation_range = 30  # Rotation angle range in degrees\n",
        "    scale_range = 0.2  # Scaling factor range\n",
        "\n",
        "    # Create the output directory if it doesn't exist\n",
        "    if not os.path.exists(output_path):\n",
        "        os.makedirs(output_path)\n",
        "\n",
        "    # Get the list of image files in the dataset directory\n",
        "    image_files = [file for file in os.listdir(input_path) if file.endswith(\".jpg\") or file.endswith(\".png\")]\n",
        "\n",
        "    # Shuffle the image files list\n",
        "    np.random.shuffle(image_files)\n",
        "\n",
        "    # Loop over each image file\n",
        "    for file in image_files:\n",
        "        if len(image_files) >= target_size:\n",
        "            break\n",
        "\n",
        "        # Read the image\n",
        "        image_path = os.path.join(input_path, file)\n",
        "        print(f\"Reading image: {image_path}\")\n",
        "        image = cv2.imread(image_path)\n",
        "\n",
        "        if image is None:\n",
        "            print(f\"Failed to read image: {image_path}\")\n",
        "            continue\n",
        "\n",
        "        # Apply random augmentation\n",
        "        for i in range(10):  # Generate 10 augmented versions for each image\n",
        "            # Apply random rotation\n",
        "            angle = np.random.uniform(-rotation_range, rotation_range)\n",
        "            rotation_matrix = cv2.getRotationMatrix2D((image.shape[1] / 2, image.shape[0] / 2), angle, 1)\n",
        "            rotated_image = cv2.warpAffine(image, rotation_matrix, (image.shape[1], image.shape[0]))\n",
        "\n",
        "            # Apply random flipping\n",
        "            flip_direction = np.random.randint(-1, 2)\n",
        "            flipped_image = cv2.flip(rotated_image, flip_direction)\n",
        "\n",
        "            # Save augmented image\n",
        "            augmented_file = f\"augmented_{len(image_files)}.jpg\"\n",
        "            augmented_path = os.path.join(output_path, augmented_file)\n",
        "            #cv2.imwrite(augmented_path, transformed_image)\n",
        "\n",
        "            # Add augmented image to the list\n",
        "            image_files.append(augmented_file)\n",
        "\n",
        "            if len(image_files) >= target_size:\n",
        "                break\n",
        "\n",
        "        if len(image_files) % 50 == 0:\n",
        "            print(f\"Generated {len(image_files)} augmented images.\")\n",
        "\n",
        "print(\"Data augmentation complete!\")"
      ],
      "metadata": {
        "id": "jbBK176yOVc0"
      },
      "execution_count": null,
      "outputs": []
    },
    {
      "cell_type": "code",
      "source": [
        "classes = ['Insect_Coloradopotatobeetle', 'Insect_Fleabeetle']\n",
        "output_base_path = '/content/drive/MyDrive/Insect/bgremoveImagesNew/'\n",
        "\n",
        "img_no = 1  # Counter for saving the processed images\n",
        "\n",
        "for cls in classes:\n",
        "    input_path = f'/content/drive/MyDrive/Insect/preprocessing_augmentation/{cls}'\n",
        "\n",
        "    # Create the output directory for the class if it doesn't exist\n",
        "    output_path = os.path.join(output_base_path, cls)\n",
        "    if not os.path.exists(output_path):\n",
        "        os.makedirs(output_path)\n",
        "\n",
        "    for j, file in enumerate(os.listdir(input_path)):\n",
        "        image_path = os.path.join(input_path, file)\n",
        "        realimage = cv2.imread(image_path, 1)\n",
        "        img1 = cv2.resize(realimage, (400, 400))\n",
        "        new_img = img_as_ubyte(img1)\n",
        "        bg_rem_img = remove(new_img)\n",
        "        bg_rem_img_BGR = cv2.cvtColor(bg_rem_img, cv2.COLOR_BGR2RGB)\n",
        "        x.append(bg_rem_img)\n",
        "\n",
        "        # Save the processed image in the class-specific output directory\n",
        "        output_file = os.path.join(output_path, f'{img_no}.jpg')\n",
        "        cv2.imwrite(output_file, bg_rem_img_BGR)\n",
        "\n",
        "        img_no += 1\n",
        "\n",
        "print(\"Processing and saving complete!\")"
      ],
      "metadata": {
        "id": "AtXElOPYOVf0"
      },
      "execution_count": null,
      "outputs": []
    },
    {
      "cell_type": "code",
      "source": [
        "import matplotlib.pyplot as plt\n",
        "\n",
        "# Path to the directory containing the processed images\n",
        "processed_images_path = '/content/drive/MyDrive/Insect/bgremoveImagesNew'\n",
        "\n",
        "# Function to display a specific image\n",
        "def show_image(cls, img_num):\n",
        "    class_output_path = os.path.join(processed_images_path, cls)\n",
        "    image_path = os.path.join(class_output_path, f'{img_num}.jpg')\n",
        "    img = plt.imread(image_path)\n",
        "    plt.imshow(img)\n",
        "    plt.title(f'Class: {cls} - Image: {img_num}')\n",
        "    plt.axis('off')\n",
        "    plt.show()\n",
        "\n",
        "# Choose the image to display\n",
        "cls = 'Insect_Coloradopotatobeetle'\n",
        "img_num = 201  # Specify the image number\n",
        "\n",
        "# Display the chosen image\n",
        "show_image(cls, img_num)\n"
      ],
      "metadata": {
        "id": "iNZFZWT3OVif"
      },
      "execution_count": null,
      "outputs": []
    },
    {
      "cell_type": "code",
      "source": [
        "# path = os.listdir('/content/drive/MyDrive/Insect/bgremoveImagesNew/')\n",
        "# classes = {'Insect_Coloradopotatobeetle':0, 'Insect_Fleabeetle':1}\n",
        "\n",
        "path = os.listdir('/content/drive/MyDrive/Insect/bgRemove/')\n",
        "classes = {'Colorado':0, 'flea':1}"
      ],
      "metadata": {
        "id": "--Pi97xAOVl5"
      },
      "execution_count": null,
      "outputs": []
    },
    {
      "cell_type": "code",
      "source": [
        "# x=[]\n",
        "# y=[]\n",
        "# z=[]\n",
        "\n",
        "# save_folder = '/content/drive/MyDrive/Insect/Segmentation/'\n",
        "# for cls in classes:\n",
        "#     pth = '/content/drive/MyDrive/Insect/bgremoveImagesNew/'+cls\n",
        "#     for j in os.listdir(pth):\n",
        "#         img = cv2.imread(pth+'/'+j,1) \n",
        "\n",
        "#         #Canny Edge Detection,identify the boundaries (edges) of objects,\n",
        "#         edges = cv2.Canny(image=img, threshold1=10, threshold2=20)\n",
        "#         edgedetect_image=cv2.cvtColor(edges, cv2.COLOR_BGR2RGB)\n",
        "\n",
        "#         # Thresholding segmentation method\n",
        "#         gray = cv2.cvtColor(edgedetect_image, cv2.COLOR_BGR2GRAY)\n",
        "#         _, thresh = cv2.threshold(gray, 127, 255, cv2.THRESH_BINARY)\n",
        "\n",
        "#         # Create a green mask with the same size as the image\n",
        "#         mask = np.full_like(thresh, 255, dtype=np.uint8)\n",
        "\n",
        "#         # Apply the mask to the image\n",
        "#         result = cv2.bitwise_and(thresh, mask)\n",
        "        \n",
        "#         x.append(result)\n",
        "#         y.append(classes[cls])\n",
        "#         z.append(img)\n",
        " \n",
        "  #Save the image in the specified folder\n",
        "        #filename = os.path.join(save_folder, j)\n",
        "        #cv2.imwrite(filename, result) \n",
        "\n",
        "################################  \n",
        "x=[]\n",
        "y=[]\n",
        "z=[]\n",
        "\n",
        "save_folder = '/content/drive/MyDrive/Insect/Segmentation/'\n",
        "for cls in classes:\n",
        "    pth = '/content/drive/MyDrive/Insect/bgRemove/'+cls\n",
        "    for j in os.listdir(pth):\n",
        "        img = cv2.imread(pth+'/'+j,1) \n",
        "\n",
        "        #Canny Edge Detection,identify the boundaries (edges) of objects,\n",
        "        edges = cv2.Canny(image=img, threshold1=10, threshold2=20)\n",
        "        edgedetect_image=cv2.cvtColor(edges, cv2.COLOR_BGR2RGB)\n",
        "\n",
        "        # Thresholding segmentation method\n",
        "        gray = cv2.cvtColor(edgedetect_image, cv2.COLOR_BGR2GRAY)\n",
        "        _, thresh = cv2.threshold(gray, 127, 255, cv2.THRESH_BINARY)\n",
        "\n",
        "        # Create a green mask with the same size as the image\n",
        "        mask = np.full_like(thresh, 255, dtype=np.uint8)\n",
        "\n",
        "        # Apply the mask to the image\n",
        "        result = cv2.bitwise_and(thresh, mask)\n",
        "        \n",
        "        x.append(result)\n",
        "        y.append(classes[cls])\n",
        "        z.append(img)\n",
        " \n",
        "#   # Save the image in the specified folder\n",
        "#         #filename = os.path.join(save_folder, j)\n",
        "#         #cv2.imwrite(filename, result) "
      ],
      "metadata": {
        "id": "U0MEPQ9hOu4V"
      },
      "execution_count": null,
      "outputs": []
    },
    {
      "cell_type": "code",
      "source": [
        "plt.imshow(x[180])"
      ],
      "metadata": {
        "id": "dufUKUjnOu72"
      },
      "execution_count": null,
      "outputs": []
    },
    {
      "cell_type": "code",
      "source": [
        "classes = {'Insect_Coloradopotatobeetle':0, 'Insect_Fleabeetle':1}\n",
        "class_counts = {}\n",
        "\n",
        "for cls in classes:\n",
        "    pth = '/content/drive/MyDrive/Insect/bgremoveImagesNew/' + cls\n",
        "    file_count = len([f for f in os.listdir(pth) if os.path.isfile(os.path.join(pth, f))])\n",
        "    class_counts[cls] = file_count\n",
        "\n",
        "# Print the number of images for each class\n",
        "for cls, count in class_counts.items():\n",
        "    print(f\"Number of images for class {cls}: {count}\")"
      ],
      "metadata": {
        "id": "oeYLav2mOu_9"
      },
      "execution_count": null,
      "outputs": []
    },
    {
      "cell_type": "code",
      "source": [
        "np.unique(y)"
      ],
      "metadata": {
        "id": "aY3NOhrGOvDe"
      },
      "execution_count": null,
      "outputs": []
    },
    {
      "cell_type": "code",
      "source": [
        "x=np.array(x)\n",
        "y=np.array(y)"
      ],
      "metadata": {
        "id": "3jjrI0R5OvF1"
      },
      "execution_count": null,
      "outputs": []
    },
    {
      "cell_type": "code",
      "source": [
        "#Prepare data\n",
        "x_updated = x.reshape(len(x), -1)\n",
        "x_updated.shape"
      ],
      "metadata": {
        "id": "E1fjmP6ZOvIH"
      },
      "execution_count": null,
      "outputs": []
    },
    {
      "cell_type": "code",
      "source": [
        "from sklearn.model_selection import train_test_split\n",
        "\n",
        "# Split dataset into train and test subsets\n",
        "xtrain, xtest,ytrain,ytest = train_test_split(x_updated, y, test_size=0.2, random_state=30)\n",
        "\n",
        "# Further split the test subset into validation and final test subsets\n",
        "xval, xtest, yval, ytest = train_test_split(xtest, ytest, test_size=0.2, random_state=30)\n",
        "\n",
        "# Print the sizes of each subset\n",
        "# print(\"Training set size:\", len(xtrain))\n",
        "# print(\"Validation set size:\", len(xval))\n",
        "# print(\"Testing set size:\", len(xtest))"
      ],
      "metadata": {
        "id": "8k-6_U9-OvLJ"
      },
      "execution_count": null,
      "outputs": []
    },
    {
      "cell_type": "code",
      "source": [
        "xtrain.shape,xtest.shape"
      ],
      "metadata": {
        "id": "tsmw_UiDO7oW"
      },
      "execution_count": null,
      "outputs": []
    },
    {
      "cell_type": "code",
      "source": [
        "#feature extraction and dimensionality reduction\n",
        "from sklearn.decomposition import PCA\n",
        "\n",
        "import joblib\n",
        "#Feature Selection : PCA\n",
        "print(xtrain.shape, xtest.shape)\n",
        "pca = PCA(n_components=0.98)\n",
        "#pca_train = pca.fit_transform(X_train_std)\n",
        "#pca_test = pca.transform(X_test_std)\n",
        "pca_train=xtrain\n",
        "pca_test=xtest\n",
        "\n",
        "# Save the PCA object\n",
        "joblib.dump(pca, '/content/drive/MyDrive/Insect/Insect Detection Model/new_pca1.pkl')"
      ],
      "metadata": {
        "id": "fhjlZQkSO7rM"
      },
      "execution_count": null,
      "outputs": []
    },
    {
      "cell_type": "code",
      "source": [
        "from sklearn.svm import SVC\n",
        "\n",
        "sv = SVC()\n",
        "sv.fit(pca_train, ytrain)\n",
        "\n",
        "print(\"Training Score:\",sv.score(pca_train,ytrain))\n",
        "print(\"Classification Score:\",sv.score(pca_test,ytest))"
      ],
      "metadata": {
        "id": "6gyp2JCTO7uF"
      },
      "execution_count": null,
      "outputs": []
    },
    {
      "cell_type": "code",
      "source": [
        "from sklearn.neighbors import KNeighborsClassifier\n",
        "\n",
        "# Create a KNN classifier\n",
        "knn = KNeighborsClassifier(n_neighbors=5)\n",
        "\n",
        "# Train the classifier\n",
        "knn.fit(pca_train, ytrain)\n",
        "\n",
        "# Evaluate the model\n",
        "print(\"K-Nearest Neighbors - Training Score:\", knn.score(pca_train, ytrain))\n",
        "print(\"K-Nearest Neighbors - Classification Score:\", knn.score(pca_test, ytest))\n"
      ],
      "metadata": {
        "id": "e_GmqviMO7xj"
      },
      "execution_count": null,
      "outputs": []
    },
    {
      "cell_type": "code",
      "source": [
        "import joblib\n",
        "\n",
        "# Save the trained model to Google Drive\n",
        "joblib.dump(sv, '/content/drive/MyDrive/Insect/Insect Detection Model/newsvm_model.pkl')"
      ],
      "metadata": {
        "id": "fC67xKT1O71i"
      },
      "execution_count": null,
      "outputs": []
    },
    {
      "cell_type": "code",
      "source": [
        "pred=sv.predict(pca_test)\n",
        "np.where(ytest!=pred)"
      ],
      "metadata": {
        "id": "uRJ3rGMYO74s"
      },
      "execution_count": null,
      "outputs": []
    },
    {
      "cell_type": "code",
      "source": [
        "pred[8]"
      ],
      "metadata": {
        "id": "EHnTDKM5O7_t"
      },
      "execution_count": null,
      "outputs": []
    },
    {
      "cell_type": "code",
      "source": [
        "ytest[8]"
      ],
      "metadata": {
        "id": "h8eTKoPYO8DN"
      },
      "execution_count": null,
      "outputs": []
    },
    {
      "cell_type": "code",
      "source": [
        "# Load the trained model\n",
        "model = joblib.load('/content/drive/MyDrive/Insect/Insect Detection Model/newsvm_model.pkl')\n",
        "\n",
        "# Define the class names\n",
        "class_names = ['Flea', 'Colorado']\n",
        "\n",
        "plt.figure(figsize=(12, 8))\n",
        "c = 1\n",
        "\n",
        "for i in os.listdir('/content/drive/MyDrive/Insect/Testing/Colorado/')[:3]:\n",
        "    plt.subplot(3, 3, c)\n",
        "    \n",
        "    img = cv2.imread('/content/drive/MyDrive/Insect/Testing/Colorado/' + i, 0)\n",
        "    img1 = cv2.resize(img, (400, 400))\n",
        "    img2 = img1.reshape(1, -1) / 255\n",
        "    \n",
        "    # Make a prediction on the image\n",
        "    pred = model.predict(img2)\n",
        "    pred_class_name = class_names[pred[0]]  # Use the same indexing for both classes\n",
        "    \n",
        "    plt.imshow(img)\n",
        "    plt.axis('off')\n",
        "    plt.title('Predicted: {}'.format(pred_class_name))\n",
        "    \n",
        "    c += 1\n",
        "\n",
        "plt.show()\n",
        "\n",
        "# Testing for Flea class\n",
        "plt.figure(figsize=(12, 8))\n",
        "c = 1\n",
        "\n",
        "for i in os.listdir('/content/drive/MyDrive/Insect/Testing/Flea/')[:3]:\n",
        "    plt.subplot(3, 3, c)\n",
        "    \n",
        "    img = cv2.imread('/content/drive/MyDrive/Insect/Testing/Flea/' + i, 0)\n",
        "    img1 = cv2.resize(img, (400, 400))\n",
        "    img2 = img1.reshape(1, -1) / 255\n",
        "\n",
        "    # Define the class names\n",
        "    class_names = ['Colorado', 'Flea']\n",
        "    \n",
        "    # Make a prediction on the image\n",
        "    pred = model.predict(img2)\n",
        "    pred_class_name = class_names[pred[0]]  # Use the same indexing for both classes\n",
        "    \n",
        "    plt.imshow(img)\n",
        "    plt.axis('off')\n",
        "    plt.title('Predicted: {}'.format(pred_class_name))\n",
        "    \n",
        "    c += 1\n",
        "\n",
        "plt.show()"
      ],
      "metadata": {
        "id": "tIVibH5SO8GM"
      },
      "execution_count": null,
      "outputs": []
    },
    {
      "cell_type": "code",
      "source": [
        "from sklearn.metrics import precision_score, recall_score, f1_score\n",
        "\n",
        "# Calculate precision, recall, and F1 score on the training and testing data\n",
        "train_precision = precision_score(ytrain, sv.predict(pca_train), average='weighted')\n",
        "test_precision = precision_score(ytest, sv.predict(pca_test), average='weighted')\n",
        "\n",
        "train_recall = recall_score(ytrain, sv.predict(pca_train), average='weighted')\n",
        "test_recall = recall_score(ytest, sv.predict(pca_test), average='weighted')\n",
        "\n",
        "train_f1 = f1_score(ytrain, sv.predict(pca_train), average='weighted')\n",
        "test_f1 = f1_score(ytest, sv.predict(pca_test), average='weighted')\n",
        "\n",
        "print(\"Training Precision:\", train_precision)\n",
        "print(\"Testing Precision:\", test_precision)\n",
        "\n",
        "print(\"Training Recall:\", train_recall)\n",
        "print(\"Testing Recall:\", test_recall)\n",
        "\n",
        "print(\"Training F1 Score:\", train_f1)\n",
        "print(\"Testing F1 Score:\", test_f1)"
      ],
      "metadata": {
        "id": "Oaw-7uKrPTMl"
      },
      "execution_count": null,
      "outputs": []
    },
    {
      "cell_type": "code",
      "source": [
        "from sklearn.metrics import classification_report\n",
        "\n",
        "# Generate classification report on the testing data\n",
        "classification_report_test = classification_report(ytest, sv.predict(pca_test), target_names=class_names)\n",
        "\n",
        "print(\"Classification Report (Testing Data):\")\n",
        "print(classification_report_test)"
      ],
      "metadata": {
        "id": "V8AKnTIsPTQi"
      },
      "execution_count": null,
      "outputs": []
    },
    {
      "cell_type": "code",
      "source": [
        "from sklearn.metrics import confusion_matrix\n",
        "import seaborn as sns\n",
        "\n",
        "# Calculate and visualize the confusion matrix on the testing data\n",
        "cm = confusion_matrix(ytest, sv.predict(pca_test))\n",
        "sns.heatmap(cm, annot=True, fmt='d', cmap='Blues', xticklabels=class_names, yticklabels=class_names)\n",
        "plt.xlabel('Predicted')\n",
        "plt.ylabel('Actual')\n",
        "plt.title('Confusion Matrix')\n",
        "plt.show()"
      ],
      "metadata": {
        "id": "L1og2N0cPTTv"
      },
      "execution_count": null,
      "outputs": []
    },
    {
      "cell_type": "code",
      "source": [
        "from sklearn.metrics import accuracy_score\n",
        "\n",
        "# Calculate accuracy score on the training and testing data\n",
        "train_accuracy = accuracy_score(ytrain, sv.predict(pca_train))\n",
        "test_accuracy = accuracy_score(ytest, sv.predict(pca_test))\n",
        "\n",
        "# Print the accuracy scores\n",
        "print(\"Training Accuracy:\", train_accuracy)\n",
        "print(\"Testing Accuracy:\", test_accuracy)"
      ],
      "metadata": {
        "id": "73iPkLcmPcrw"
      },
      "execution_count": null,
      "outputs": []
    },
    {
      "cell_type": "code",
      "source": [],
      "metadata": {
        "id": "CGnjbubzPdI1"
      },
      "execution_count": null,
      "outputs": []
    }
  ]
}