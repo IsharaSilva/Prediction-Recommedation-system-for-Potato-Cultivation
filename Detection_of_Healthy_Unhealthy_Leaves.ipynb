{
  "cells": [
    {
      "cell_type": "markdown",
      "metadata": {
        "id": "view-in-github",
        "colab_type": "text"
      },
      "source": [
        "<a href=\"https://colab.research.google.com/github/IsharaSilva/Prediction-Recommedation-system-for-Potato-Cultivation/blob/main/Detection_of_Healthy_Unhealthy_Leaves.ipynb\" target=\"_parent\"><img src=\"https://colab.research.google.com/assets/colab-badge.svg\" alt=\"Open In Colab\"/></a>"
      ]
    },
    {
      "cell_type": "markdown",
      "metadata": {
        "id": "441b8a21"
      },
      "source": [
        "import numpy as np\n",
        "import pandas as pd\n",
        "import matplotlib.pyplot as plt\n",
        "from sklearn.model_selection import train_test_split\n",
        "from sklearn.metrics import accuracy_score"
      ],
      "id": "441b8a21"
    },
    {
      "cell_type": "code",
      "execution_count": null,
      "metadata": {
        "id": "S3ouFGGtxyYz"
      },
      "outputs": [],
      "source": [
        "import numpy as np # dataAnalysis\n",
        "import pandas as pd #multidimensional arrays\n",
        "import matplotlib.pyplot as plt #data visualization\n",
        "from sklearn.model_selection import train_test_split\n",
        "from sklearn.metrics import accuracy_score\n",
        "from skimage import img_as_ubyte\n",
        "from skimage.util import img_as_float\n"
      ],
      "id": "S3ouFGGtxyYz"
    },
    {
      "cell_type": "code",
      "execution_count": null,
      "metadata": {
        "colab": {
          "base_uri": "https://localhost:8080/"
        },
        "id": "Raz-Ht4Fz1TD",
        "outputId": "7288ca20-7d6c-4e5d-c851-fc9b9bcad0d4"
      },
      "outputs": [
        {
          "name": "stdout",
          "output_type": "stream",
          "text": [
            "Drive already mounted at /content/drive; to attempt to forcibly remount, call drive.mount(\"/content/drive\", force_remount=True).\n"
          ]
        }
      ],
      "source": [
        "from google.colab import drive\n",
        "drive.mount('/content/drive')"
      ],
      "id": "Raz-Ht4Fz1TD"
    },
    {
      "cell_type": "code",
      "execution_count": null,
      "metadata": {
        "colab": {
          "background_save": true
        },
        "id": "ix7py0lBz-qQ"
      },
      "outputs": [],
      "source": [
        "my_folder_path = 'https://drive.google.com/drive/folders/1J_XyVRFE15SzLjFtT4Z1OrabYlNeDHGQ?usp=share_link'"
      ],
      "id": "ix7py0lBz-qQ"
    },
    {
      "cell_type": "code",
      "source": [
        "!git clone https://github.com/IsharaSilva/Prediction-Recommedation-system-for-Potato-Cultivation.git"
      ],
      "metadata": {
        "colab": {
          "base_uri": "https://localhost:8080/"
        },
        "id": "y7Dav3gT9GO6",
        "outputId": "71fecdba-1d46-427f-dac3-62cde13ad1aa"
      },
      "id": "y7Dav3gT9GO6",
      "execution_count": 10,
      "outputs": [
        {
          "output_type": "stream",
          "name": "stdout",
          "text": [
            "fatal: destination path 'Prediction-Recommedation-system-for-Potato-Cultivation' already exists and is not an empty directory.\n"
          ]
        }
      ]
    },
    {
      "cell_type": "code",
      "source": [
        "from google.colab import drive"
      ],
      "metadata": {
        "id": "78G4kHQZ9Ppd"
      },
      "id": "78G4kHQZ9Ppd",
      "execution_count": 11,
      "outputs": []
    },
    {
      "cell_type": "code",
      "source": [
        "drive.mount('/content/drive')"
      ],
      "metadata": {
        "colab": {
          "base_uri": "https://localhost:8080/"
        },
        "id": "_yJ_YoO69Wfs",
        "outputId": "a252a73d-5302-491a-9e92-3767feed3534"
      },
      "id": "_yJ_YoO69Wfs",
      "execution_count": 12,
      "outputs": [
        {
          "output_type": "stream",
          "name": "stdout",
          "text": [
            "Drive already mounted at /content/drive; to attempt to forcibly remount, call drive.mount(\"/content/drive\", force_remount=True).\n"
          ]
        }
      ]
    },
    {
      "cell_type": "code",
      "source": [
        "import os\n",
        "path = os.listdir('/content/drive/MyDrive/HealthyUnhealthy/Training')\n",
        "classes = {'Healthy':0, 'Unhealthy':1}"
      ],
      "metadata": {
        "colab": {
          "base_uri": "https://localhost:8080/",
          "height": 200
        },
        "id": "wy4JNyoG9Yq4",
        "outputId": "bf6ed137-86d8-4122-e195-fc4d0d3b4be3"
      },
      "id": "wy4JNyoG9Yq4",
      "execution_count": 14,
      "outputs": [
        {
          "output_type": "error",
          "ename": "FileNotFoundError",
          "evalue": "ignored",
          "traceback": [
            "\u001b[0;31m---------------------------------------------------------------------------\u001b[0m",
            "\u001b[0;31mFileNotFoundError\u001b[0m                         Traceback (most recent call last)",
            "\u001b[0;32m<ipython-input-14-ff0f1d215712>\u001b[0m in \u001b[0;36m<cell line: 2>\u001b[0;34m()\u001b[0m\n\u001b[1;32m      1\u001b[0m \u001b[0;32mimport\u001b[0m \u001b[0mos\u001b[0m\u001b[0;34m\u001b[0m\u001b[0;34m\u001b[0m\u001b[0m\n\u001b[0;32m----> 2\u001b[0;31m \u001b[0mpath\u001b[0m \u001b[0;34m=\u001b[0m \u001b[0mos\u001b[0m\u001b[0;34m.\u001b[0m\u001b[0mlistdir\u001b[0m\u001b[0;34m(\u001b[0m\u001b[0;34m'/content/drive/MyDrive/HealthyUnhealthy/Training'\u001b[0m\u001b[0;34m)\u001b[0m\u001b[0;34m\u001b[0m\u001b[0;34m\u001b[0m\u001b[0m\n\u001b[0m\u001b[1;32m      3\u001b[0m \u001b[0mclasses\u001b[0m \u001b[0;34m=\u001b[0m \u001b[0;34m{\u001b[0m\u001b[0;34m'Healthy'\u001b[0m\u001b[0;34m:\u001b[0m\u001b[0;36m0\u001b[0m\u001b[0;34m,\u001b[0m \u001b[0;34m'Unhealthy'\u001b[0m\u001b[0;34m:\u001b[0m\u001b[0;36m1\u001b[0m\u001b[0;34m}\u001b[0m\u001b[0;34m\u001b[0m\u001b[0;34m\u001b[0m\u001b[0m\n",
            "\u001b[0;31mFileNotFoundError\u001b[0m: [Errno 2] No such file or directory: '/content/drive/MyDrive/HealthyUnhealthy/Training'"
          ]
        }
      ]
    },
    {
      "cell_type": "code",
      "source": [
        "x=[]\n",
        "y=[]\n",
        "for cls in classes:\n",
        "    pth = 'F:/L4S1/FYP/Dataset/Training/'+cls\n",
        "    for j in os.listdir(pth):\n",
        "        img = cv2.imread(pth+'/'+j)\n",
        "        img1 = cv2.resize(img, (500,500))#image resizing\n",
        "        img1 = cv2.medianBlur(img1, 5)#apply median filter for remove noise\n",
        "        img1 = img_as_ubyte(cv2.cvtColor(img1, cv2.COLOR_BGR2RGB)) #contrast improve\n",
        "        #ret,img1 = cv2.threshold(img1,127,255,cv2.THRESH_TRUNC) #Threshould technique      \n",
        "        x.append(img1)\n",
        "        y.append(img)\n",
        "\n",
        "plt.imshow(x[0]) #image after preprocessing"
      ],
      "metadata": {
        "id": "roqv4VEg-aM7"
      },
      "id": "roqv4VEg-aM7",
      "execution_count": null,
      "outputs": []
    }
  ],
  "metadata": {
    "colab": {
      "provenance": [],
      "include_colab_link": true
    },
    "kernelspec": {
      "display_name": "Python 3 (ipykernel)",
      "language": "python",
      "name": "python3"
    },
    "language_info": {
      "codemirror_mode": {
        "name": "ipython",
        "version": 3
      },
      "file_extension": ".py",
      "mimetype": "text/x-python",
      "name": "python",
      "nbconvert_exporter": "python",
      "pygments_lexer": "ipython3",
      "version": "3.10.9"
    }
  },
  "nbformat": 4,
  "nbformat_minor": 5
}