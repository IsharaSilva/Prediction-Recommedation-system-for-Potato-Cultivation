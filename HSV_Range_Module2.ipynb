{
  "nbformat": 4,
  "nbformat_minor": 0,
  "metadata": {
    "colab": {
      "provenance": [],
      "authorship_tag": "ABX9TyMijgaTOAjUHLtMyLfgNj4F",
      "include_colab_link": true
    },
    "kernelspec": {
      "name": "python3",
      "display_name": "Python 3"
    },
    "language_info": {
      "name": "python"
    }
  },
  "cells": [
    {
      "cell_type": "markdown",
      "metadata": {
        "id": "view-in-github",
        "colab_type": "text"
      },
      "source": [
        "<a href=\"https://colab.research.google.com/github/IsharaSilva/Prediction-Recommedation-system-for-Potato-Cultivation/blob/main/HSV_Range_Module2.ipynb\" target=\"_parent\"><img src=\"https://colab.research.google.com/assets/colab-badge.svg\" alt=\"Open In Colab\"/></a>"
      ]
    },
    {
      "cell_type": "code",
      "source": [
        "from google.colab import drive\n",
        "drive.mount('/content/drive')"
      ],
      "metadata": {
        "colab": {
          "base_uri": "https://localhost:8080/"
        },
        "id": "QH-pI9qoVHcu",
        "outputId": "e5848f7e-25a7-4ec1-cd6e-877bc1ac9ad5"
      },
      "execution_count": 1,
      "outputs": [
        {
          "output_type": "stream",
          "name": "stdout",
          "text": [
            "Mounted at /content/drive\n"
          ]
        }
      ]
    },
    {
      "cell_type": "code",
      "source": [
        "my_folder_path = 'https://drive.google.com/drive/folders/1J_XyVRFE15SzLjFtT4Z1OrabYlNeDHGQ?usp=share_link'"
      ],
      "metadata": {
        "id": "OjRMVV3ZVHZM"
      },
      "execution_count": 2,
      "outputs": []
    },
    {
      "cell_type": "code",
      "source": [
        "!git clone https://github.com/IsharaSilva/Prediction-Recommedation-system-for-Potato-Cultivation.git"
      ],
      "metadata": {
        "colab": {
          "base_uri": "https://localhost:8080/"
        },
        "id": "jUkEY1CSVHV3",
        "outputId": "8179ab6e-f30e-4058-e02c-f9da0ebc806d"
      },
      "execution_count": 3,
      "outputs": [
        {
          "output_type": "stream",
          "name": "stdout",
          "text": [
            "Cloning into 'Prediction-Recommedation-system-for-Potato-Cultivation'...\n",
            "remote: Enumerating objects: 359, done.\u001b[K\n",
            "remote: Counting objects: 100% (246/246), done.\u001b[K\n",
            "remote: Compressing objects: 100% (156/156), done.\u001b[K\n",
            "remote: Total 359 (delta 158), reused 136 (delta 90), pack-reused 113\u001b[K\n",
            "Receiving objects: 100% (359/359), 102.51 MiB | 22.45 MiB/s, done.\n",
            "Resolving deltas: 100% (228/228), done.\n"
          ]
        }
      ]
    },
    {
      "cell_type": "code",
      "execution_count": null,
      "metadata": {
        "id": "hLJp6dfKU_6c"
      },
      "outputs": [],
      "source": [
        "import cv2\n",
        "import numpy as np\n",
        "\n",
        "def nothing(x):\n",
        "    pass\n",
        "\n",
        "# Load image\n",
        "image = cv2.imread('/content/drive/MyDrive/Insect/bgremoveImagesNew/Insect_Coloradopotatobeetle/393.jpg')\n",
        "\n",
        "\n",
        "image = cv2.resize(image,(400,400))\n",
        "\n",
        "# Create a window\n",
        "cv2.namedWindow('image')\n",
        "\n",
        "# Create trackbars for color change\n",
        "# Hue is from 0-179 for Opencv\n",
        "cv2.createTrackbar('HMin', 'image', 0, 179, nothing)\n",
        "cv2.createTrackbar('SMin', 'image', 0, 255, nothing)\n",
        "cv2.createTrackbar('VMin', 'image', 0, 255, nothing)\n",
        "cv2.createTrackbar('HMax', 'image', 0, 179, nothing)\n",
        "cv2.createTrackbar('SMax', 'image', 0, 255, nothing)\n",
        "cv2.createTrackbar('VMax', 'image', 0, 255, nothing)\n",
        "\n",
        "# Set default value for Max HSV trackbars\n",
        "cv2.setTrackbarPos('HMax', 'image', 179)\n",
        "cv2.setTrackbarPos('SMax', 'image', 255)\n",
        "cv2.setTrackbarPos('VMax', 'image', 255)\n",
        "\n",
        "# Initialize HSV min/max values\n",
        "hMin = sMin = vMin = hMax = sMax = vMax = 0\n",
        "phMin = psMin = pvMin = phMax = psMax = pvMax = 0\n",
        "\n",
        "while(1):\n",
        "    # Get current positions of all trackbars\n",
        "    hMin = cv2.getTrackbarPos('HMin', 'image')\n",
        "    sMin = cv2.getTrackbarPos('SMin', 'image')\n",
        "    vMin = cv2.getTrackbarPos('VMin', 'image')\n",
        "    hMax = cv2.getTrackbarPos('HMax', 'image')\n",
        "    sMax = cv2.getTrackbarPos('SMax', 'image')\n",
        "    vMax = cv2.getTrackbarPos('VMax', 'image')\n",
        "\n",
        "    # Set minimum and maximum HSV values to display\n",
        "    lower = np.array([hMin, sMin, vMin])\n",
        "    upper = np.array([hMax, sMax, vMax])\n",
        "\n",
        "    # Convert to HSV format and color threshold\n",
        "    hsv = cv2.cvtColor(image, cv2.COLOR_BGR2HSV)\n",
        "    mask = cv2.inRange(hsv, lower, upper)\n",
        "    result = cv2.bitwise_and(image, image, mask=mask)\n",
        "\n",
        "    # Print if there is a change in HSV value\n",
        "    if((phMin != hMin) | (psMin != sMin) | (pvMin != vMin) | (phMax != hMax) | (psMax != sMax) | (pvMax != vMax) ):\n",
        "        print(\"(hMin = %d , sMin = %d, vMin = %d), (hMax = %d , sMax = %d, vMax = %d)\" % (hMin , sMin , vMin, hMax, sMax , vMax))\n",
        "        phMin = hMin\n",
        "        psMin = sMin\n",
        "        pvMin = vMin\n",
        "        phMax = hMax\n",
        "        psMax = sMax\n",
        "        pvMax = vMax\n",
        "\n",
        "    # Display result image\n",
        "    cv2.imshow('image', result)\n",
        "    if cv2.waitKey(10) & 0xFF == ord('q'):\n",
        "        break\n",
        "\n",
        "cv2.destroyAllWindows()"
      ]
    }
  ]
}